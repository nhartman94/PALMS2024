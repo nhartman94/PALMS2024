{
 "cells": [
  {
   "cell_type": "markdown",
   "id": "b56465c1-3d89-4897-a963-bc887316aa9d",
   "metadata": {},
   "source": [
    "# Intro to Machine Learning: Linear Models \n",
    "\n",
    "[![Open In Colab](https://colab.research.google.com/assets/colab-badge.svg)](https://colab.research.google.com/github/nhartman94/PALMS2024/blob/solutions/ML-intro-SOLN.ipynb)\n",
    "\n",
    "Nicole Hartman, PALMS2024\n",
    "\n",
    "**Data detective:**  We're going to give you a \"mystery dataset\" and your challenge is to find the \n",
    "$\\theta = [\\theta_0,\\theta_1,\\theta_2,\\theta_3]$ \n",
    "if we fit linear model to this dataset where the \"basis\" dimensions are a $3^{rd}$ degree polynomial.\n"
   ]
  },
  {
   "cell_type": "code",
   "execution_count": 1,
   "id": "5744e8aa-cbad-41bc-ad37-1ec98730af64",
   "metadata": {},
   "outputs": [],
   "source": [
    "import numpy as np\n",
    "import pandas as pd # just for file loading\n",
    "import matplotlib.pyplot as plt"
   ]
  },
  {
   "cell_type": "markdown",
   "id": "7d905c13-f688-4270-9e05-26d7d3d237c1",
   "metadata": {},
   "source": [
    "## Step 0: Load in the data"
   ]
  },
  {
   "cell_type": "code",
   "execution_count": 2,
   "id": "65a17e36-c56c-4c58-a120-f75299f9e265",
   "metadata": {},
   "outputs": [],
   "source": [
    "'''\n",
    "Soln: The code that generated the dataset\n",
    "'''\n",
    "n = 32\n",
    "x = np.random.uniform(-3,3,n)\n",
    "\n",
    "# Construct the \"features\" for the linear model,\n",
    "# assumed to be a third order polynomial\n",
    "x0 = np.ones_like(x)\n",
    "x1 = x\n",
    "x2 = x**2\n",
    "x3 = x**3\n",
    "\n",
    "X = np.column_stack([x0,x1,x2,x3])\n",
    "\n",
    "eps = 0.2 * np.random.randn(n)\n",
    "\n",
    "theta_true = np.array([-1,3,2,-1])\n",
    "\n",
    "y = X @ theta_true + eps\n",
    "\n",
    "# Save the dataframe\n",
    "df = pd.DataFrame(np.column_stack([x,y]),columns=['x','y'])\n",
    "df.to_hdf('data.h5',key='df')"
   ]
  },
  {
   "cell_type": "code",
   "execution_count": 3,
   "id": "4a7eefc1-2210-482e-a7e2-fd2ec7989413",
   "metadata": {},
   "outputs": [],
   "source": [
    "# Load the data\n",
    "df = pd.read_hdf('data.h5')"
   ]
  },
  {
   "cell_type": "code",
   "execution_count": 4,
   "id": "2ef2b087-8dab-437a-b14b-850c4c3345bf",
   "metadata": {},
   "outputs": [
    {
     "data": {
      "text/html": [
       "<div>\n",
       "<style scoped>\n",
       "    .dataframe tbody tr th:only-of-type {\n",
       "        vertical-align: middle;\n",
       "    }\n",
       "\n",
       "    .dataframe tbody tr th {\n",
       "        vertical-align: top;\n",
       "    }\n",
       "\n",
       "    .dataframe thead th {\n",
       "        text-align: right;\n",
       "    }\n",
       "</style>\n",
       "<table border=\"1\" class=\"dataframe\">\n",
       "  <thead>\n",
       "    <tr style=\"text-align: right;\">\n",
       "      <th></th>\n",
       "      <th>x</th>\n",
       "      <th>y</th>\n",
       "    </tr>\n",
       "  </thead>\n",
       "  <tbody>\n",
       "    <tr>\n",
       "      <th>0</th>\n",
       "      <td>1.002449</td>\n",
       "      <td>2.816525</td>\n",
       "    </tr>\n",
       "    <tr>\n",
       "      <th>1</th>\n",
       "      <td>-0.484741</td>\n",
       "      <td>-1.916341</td>\n",
       "    </tr>\n",
       "    <tr>\n",
       "      <th>2</th>\n",
       "      <td>-0.571503</td>\n",
       "      <td>-1.660512</td>\n",
       "    </tr>\n",
       "    <tr>\n",
       "      <th>3</th>\n",
       "      <td>1.571730</td>\n",
       "      <td>4.471099</td>\n",
       "    </tr>\n",
       "    <tr>\n",
       "      <th>4</th>\n",
       "      <td>2.352056</td>\n",
       "      <td>4.205029</td>\n",
       "    </tr>\n",
       "    <tr>\n",
       "      <th>5</th>\n",
       "      <td>-1.991044</td>\n",
       "      <td>9.059872</td>\n",
       "    </tr>\n",
       "    <tr>\n",
       "      <th>6</th>\n",
       "      <td>2.023070</td>\n",
       "      <td>4.983041</td>\n",
       "    </tr>\n",
       "    <tr>\n",
       "      <th>7</th>\n",
       "      <td>-0.297098</td>\n",
       "      <td>-1.911301</td>\n",
       "    </tr>\n",
       "    <tr>\n",
       "      <th>8</th>\n",
       "      <td>-0.023871</td>\n",
       "      <td>-1.160766</td>\n",
       "    </tr>\n",
       "    <tr>\n",
       "      <th>9</th>\n",
       "      <td>1.093149</td>\n",
       "      <td>3.521039</td>\n",
       "    </tr>\n",
       "    <tr>\n",
       "      <th>10</th>\n",
       "      <td>0.406939</td>\n",
       "      <td>0.851945</td>\n",
       "    </tr>\n",
       "    <tr>\n",
       "      <th>11</th>\n",
       "      <td>2.872719</td>\n",
       "      <td>0.432880</td>\n",
       "    </tr>\n",
       "    <tr>\n",
       "      <th>12</th>\n",
       "      <td>2.870595</td>\n",
       "      <td>0.756537</td>\n",
       "    </tr>\n",
       "    <tr>\n",
       "      <th>13</th>\n",
       "      <td>-2.682704</td>\n",
       "      <td>24.643362</td>\n",
       "    </tr>\n",
       "    <tr>\n",
       "      <th>14</th>\n",
       "      <td>-2.219025</td>\n",
       "      <td>13.055543</td>\n",
       "    </tr>\n",
       "    <tr>\n",
       "      <th>15</th>\n",
       "      <td>-0.650753</td>\n",
       "      <td>-2.071995</td>\n",
       "    </tr>\n",
       "    <tr>\n",
       "      <th>16</th>\n",
       "      <td>0.298934</td>\n",
       "      <td>0.258699</td>\n",
       "    </tr>\n",
       "    <tr>\n",
       "      <th>17</th>\n",
       "      <td>1.004775</td>\n",
       "      <td>2.685563</td>\n",
       "    </tr>\n",
       "    <tr>\n",
       "      <th>18</th>\n",
       "      <td>2.709074</td>\n",
       "      <td>1.620116</td>\n",
       "    </tr>\n",
       "    <tr>\n",
       "      <th>19</th>\n",
       "      <td>-1.215980</td>\n",
       "      <td>-0.369621</td>\n",
       "    </tr>\n",
       "    <tr>\n",
       "      <th>20</th>\n",
       "      <td>-0.786848</td>\n",
       "      <td>-1.407009</td>\n",
       "    </tr>\n",
       "    <tr>\n",
       "      <th>21</th>\n",
       "      <td>1.377667</td>\n",
       "      <td>4.261150</td>\n",
       "    </tr>\n",
       "    <tr>\n",
       "      <th>22</th>\n",
       "      <td>-0.263292</td>\n",
       "      <td>-1.417166</td>\n",
       "    </tr>\n",
       "    <tr>\n",
       "      <th>23</th>\n",
       "      <td>0.978622</td>\n",
       "      <td>3.078650</td>\n",
       "    </tr>\n",
       "    <tr>\n",
       "      <th>24</th>\n",
       "      <td>-1.261679</td>\n",
       "      <td>0.415211</td>\n",
       "    </tr>\n",
       "    <tr>\n",
       "      <th>25</th>\n",
       "      <td>2.064565</td>\n",
       "      <td>5.002120</td>\n",
       "    </tr>\n",
       "    <tr>\n",
       "      <th>26</th>\n",
       "      <td>0.079863</td>\n",
       "      <td>-0.394394</td>\n",
       "    </tr>\n",
       "    <tr>\n",
       "      <th>27</th>\n",
       "      <td>-2.495875</td>\n",
       "      <td>19.824901</td>\n",
       "    </tr>\n",
       "    <tr>\n",
       "      <th>28</th>\n",
       "      <td>2.428888</td>\n",
       "      <td>3.783598</td>\n",
       "    </tr>\n",
       "    <tr>\n",
       "      <th>29</th>\n",
       "      <td>0.889415</td>\n",
       "      <td>2.248760</td>\n",
       "    </tr>\n",
       "    <tr>\n",
       "      <th>30</th>\n",
       "      <td>-2.263477</td>\n",
       "      <td>13.865873</td>\n",
       "    </tr>\n",
       "    <tr>\n",
       "      <th>31</th>\n",
       "      <td>-2.343111</td>\n",
       "      <td>15.813540</td>\n",
       "    </tr>\n",
       "  </tbody>\n",
       "</table>\n",
       "</div>"
      ],
      "text/plain": [
       "           x          y\n",
       "0   1.002449   2.816525\n",
       "1  -0.484741  -1.916341\n",
       "2  -0.571503  -1.660512\n",
       "3   1.571730   4.471099\n",
       "4   2.352056   4.205029\n",
       "5  -1.991044   9.059872\n",
       "6   2.023070   4.983041\n",
       "7  -0.297098  -1.911301\n",
       "8  -0.023871  -1.160766\n",
       "9   1.093149   3.521039\n",
       "10  0.406939   0.851945\n",
       "11  2.872719   0.432880\n",
       "12  2.870595   0.756537\n",
       "13 -2.682704  24.643362\n",
       "14 -2.219025  13.055543\n",
       "15 -0.650753  -2.071995\n",
       "16  0.298934   0.258699\n",
       "17  1.004775   2.685563\n",
       "18  2.709074   1.620116\n",
       "19 -1.215980  -0.369621\n",
       "20 -0.786848  -1.407009\n",
       "21  1.377667   4.261150\n",
       "22 -0.263292  -1.417166\n",
       "23  0.978622   3.078650\n",
       "24 -1.261679   0.415211\n",
       "25  2.064565   5.002120\n",
       "26  0.079863  -0.394394\n",
       "27 -2.495875  19.824901\n",
       "28  2.428888   3.783598\n",
       "29  0.889415   2.248760\n",
       "30 -2.263477  13.865873\n",
       "31 -2.343111  15.813540"
      ]
     },
     "execution_count": 4,
     "metadata": {},
     "output_type": "execute_result"
    }
   ],
   "source": [
    "df"
   ]
  },
  {
   "cell_type": "code",
   "execution_count": 5,
   "id": "1f68631a-589d-47ca-9789-86b00696174f",
   "metadata": {},
   "outputs": [],
   "source": [
    "# Put this data in numpy arrays\n",
    "x = df['x'].values\n",
    "y = df['y'].values"
   ]
  },
  {
   "cell_type": "code",
   "execution_count": 6,
   "id": "06bdf199-db3f-482f-bfea-3c63f42831fd",
   "metadata": {},
   "outputs": [
    {
     "data": {
      "text/plain": [
       "<matplotlib.legend.Legend at 0x125cfed50>"
      ]
     },
     "execution_count": 6,
     "metadata": {},
     "output_type": "execute_result"
    },
    {
     "data": {
      "image/png": "[encoded data removed]",
      "text/plain": [
       "<Figure size 640x480 with 1 Axes>"
      ]
     },
     "metadata": {},
     "output_type": "display_data"
    }
   ],
   "source": [
    "# Plot the data\n",
    "plt.scatter(x,y,marker='x',color='crimson',label='data')\n",
    "\n",
    "plt.xlabel('$x$',fontsize=20)\n",
    "plt.ylabel('$y$',fontsize=20)\n",
    "plt.legend(fontsize=16)"
   ]
  },
  {
   "cell_type": "markdown",
   "id": "0e87c2a7-9bc6-4e5c-a8e6-17c5941d0286",
   "metadata": {},
   "source": [
    "## Step 1:  Code up a linear model for a $3^{rd}$ degree polynomial.\n",
    "\n",
    "**Recall:** A linear model is a model that can be written in the form\n",
    "\n",
    "$$h_\\theta(\\vec{x}) = \\theta^T \\vec{x},$$\n",
    "\n",
    "where $\\vec{x} = \\left[x_0, x_1, \\ldots, x_d\\right]$.\n",
    "\n",
    "In this case, we'll take the dimensions of $x$ to be a third order polynomial (d=3):\n",
    "$\\vec{x} = \\left[1, x, x^2, x^3\\right]$"
   ]
  },
  {
   "cell_type": "code",
   "execution_count": 7,
   "id": "50ed30ba-77b5-4024-ba2a-f8d4b8369ff3",
   "metadata": {},
   "outputs": [],
   "source": [
    "# Initialize theta to some random values\n",
    "# theta = (theta0, theta_1, theta_2, theta_3)\n",
    "theta = np.random.randn(4,)"
   ]
  },
  {
   "cell_type": "code",
   "execution_count": 8,
   "id": "887aa6f5-41c0-4468-80b2-2ff2e8698c9f",
   "metadata": {},
   "outputs": [],
   "source": [
    "def get_predicion(x,theta):\n",
    "    '''\n",
    "    Evaluate a linear model that is a 3rd order polynomial\n",
    "\n",
    "    fx = theta[0] + theta[1] * x + theta[2] * x^2 + theta[3] * x^3 \n",
    "\n",
    "    Input:\n",
    "    - x: shape n\n",
    "    - theta: 4\n",
    "\n",
    "    Output:\n",
    "    - fx: shape n\n",
    "    '''\n",
    "    \n",
    "    assert theta.shape[0] == 4 # sanity check for 3rd order polynomial\n",
    "    \n",
    "    '''\n",
    "    Your code here!\n",
    "    '''\n",
    "    fx = theta[0] + theta[1] * x + theta[2] * x**2 + theta[3] * x**3  # soln\n",
    "\n",
    "    return fx"
   ]
  },
  {
   "cell_type": "markdown",
   "id": "7eb35b8a-4dde-47f2-bf2d-45ba5d3875b4",
   "metadata": {},
   "source": [
    "## Step 2a) Calculate the loss"
   ]
  },
  {
   "cell_type": "code",
   "execution_count": 9,
   "id": "ad185e8e-7e62-4a6d-a3a6-fecac789eb00",
   "metadata": {},
   "outputs": [],
   "source": [
    "def get_loss(y_pred, y_true):\n",
    "    '''\n",
    "    Calculate the Mean Squared Error (MSE) loss over N examples\n",
    "\n",
    "    Inputs:\n",
    "    - y_pred: (n,) array\n",
    "    - y_true: (n,) array\n",
    "\n",
    "    Outputs:\n",
    "    - loss: scalar\n",
    "    '''\n",
    "\n",
    "    assert len(y_pred) == len(y_true) # sanity check the inputs make sense\n",
    "\n",
    "    '''\n",
    "    Your code here\n",
    "    '''\n",
    "    N = len(y_pred)\n",
    "    loss = (1/N) * np.sum((y_pred - y_true)**2) # soln\n",
    "\n",
    "    return loss"
   ]
  },
  {
   "cell_type": "code",
   "execution_count": 10,
   "id": "0f858615-95e2-41da-95a7-d0c2e641f11a",
   "metadata": {},
   "outputs": [],
   "source": [
    "y_pred = get_predicion(x, theta) \n",
    "loss = get_loss(y_pred,y)"
   ]
  },
  {
   "cell_type": "code",
   "execution_count": 11,
   "id": "eab8c1c1-a701-40f5-899e-9d68bfd5cbba",
   "metadata": {},
   "outputs": [
    {
     "data": {
      "text/plain": [
       "array([ -2.89243068,  -1.77436885,  -1.76759022,  -5.753696  ,\n",
       "       -14.16523698,   2.35729594,  -9.86922505,  -1.75953843,\n",
       "        -1.71892646,  -3.205334  ,  -1.81735449, -23.641001  ,\n",
       "       -23.59496928,   9.579882  ,   4.22647868,  -1.75028022,\n",
       "        -1.75800115,  -2.8998668 , -20.278372  ,  -1.11384742,\n",
       "        -1.68896825,  -4.52253528,  -1.7543557 ,  -2.81797205,\n",
       "        -1.00823784, -10.34632203,  -1.71460391,   7.15247412,\n",
       "       -15.34653782,  -2.56622608,   4.64562468,   5.44380468])"
      ]
     },
     "execution_count": 11,
     "metadata": {},
     "output_type": "execute_result"
    }
   ],
   "source": [
    "y_pred"
   ]
  },
  {
   "cell_type": "code",
   "execution_count": 12,
   "id": "9dc51338-9aa5-49c1-9ddf-0dc4553dc987",
   "metadata": {},
   "outputs": [
    {
     "data": {
      "text/plain": [
       "<matplotlib.legend.Legend at 0x125d6eb90>"
      ]
     },
     "execution_count": 12,
     "metadata": {},
     "output_type": "execute_result"
    },
    {
     "data": {
      "image/png": "[encoded data removed]",
      "text/plain": [
       "<Figure size 640x480 with 1 Axes>"
      ]
     },
     "metadata": {},
     "output_type": "display_data"
    }
   ],
   "source": [
    "# data\n",
    "plt.scatter(x,y,marker='x',color='crimson',label='data')\n",
    "\n",
    "# Show the \"initial guess\" for the prediction\n",
    "xx = np.linspace(-3,3)\n",
    "f_theta = get_predicion(xx,theta)\n",
    "plt.plot(xx,f_theta, label='pred' )\n",
    "\n",
    "# These lines are the h_theta(x) for the data samples too\n",
    "# y_pred = get_predicion(x,theta)\n",
    "# plt.scatter(x,y_pred,marker='o',color='navy',label=r'$h_\\theta(x)$')\n",
    "\n",
    "ax = plt.gca()\n",
    "plt.text(.5,.9,f'loss = {loss:2.2f}',fontsize=16,\n",
    "         ha='center',va='top',transform=ax.transAxes)\n",
    "\n",
    "plt.xlabel('$x$',fontsize=20)\n",
    "plt.ylabel('$y$',fontsize=20)\n",
    "\n",
    "plt.legend(fontsize=16)"
   ]
  },
  {
   "cell_type": "code",
   "execution_count": null,
   "id": "b123fe3b-978f-4ee3-a523-49ff227d7562",
   "metadata": {},
   "outputs": [],
   "source": []
  },
  {
   "cell_type": "markdown",
   "id": "42d696c8-212a-41f7-a06f-1d2fa227dfd5",
   "metadata": {},
   "source": [
    "## Step 2b) Gradient of the loss with respect to $\\theta$\n",
    "\n",
    "**Recall:** In the exercise we dervied:\n",
    "\n",
    "$$ \\frac{\\partial \\mathcal{L}}{\\partial \\theta} = \\frac{2}{n} \\sum_{i = 1}^{n} (\\theta^Tx^{(i)} - y^{(i)}) x^{(i)}_j$$"
   ]
  },
  {
   "cell_type": "markdown",
   "id": "eaaa48da-82dc-482c-bca9-d26ea46b08b7",
   "metadata": {},
   "source": [
    "In python it's really important for speed to write computations in a vectorized way as much as possible (i.e, without for loops).\n",
    "\n",
    "We noted in the lecture that we could get the full vector for gradient by noting\n",
    "\n",
    "$$X =  \\begin{pmatrix}\n",
    "- x^{(1)} - \\\\ \\vdots \\\\ - x^{(n)} - \n",
    "\\end{pmatrix} \\in \\mathbb{R}^{n \\times d},$$\n",
    "\n",
    "where for the $3^{rd}$ order polynomial, $d=3$.\n",
    "\n",
    "Then $\\theta \\in \\mathbb{R}^d$, $\\implies X\\theta \\in \\mathbb{R}^n$ and $y \\in \\mathbb{R}^n$, so we can write more succinctly as:\n",
    "\n",
    "$$\\nabla_\\theta \\mathcal{L} = \\frac{2}{n} X^T (X \\theta - y).$$\n"
   ]
  },
  {
   "cell_type": "code",
   "execution_count": 13,
   "id": "dd59ea82-f036-48f5-a28b-96e52f11e27a",
   "metadata": {},
   "outputs": [],
   "source": [
    "def get_grad(x,y,theta):\n",
    "    '''\n",
    "    Code up the gradient of the loss with respect to theta.\n",
    "\n",
    "    Input:\n",
    "    - x: array (n,)\n",
    "    - y: array (n,)\n",
    "    - theta: (d,)\n",
    "\n",
    "    Output:\n",
    "    - dtheta: (d,)\n",
    "    '''\n",
    "\n",
    "    assert x.shape[0] == y.shape[0]\n",
    "        \n",
    "    '''\n",
    "    Your code here\n",
    "\n",
    "    Hint: Construct matrix X: (n,d) from examples `x`\n",
    "    '''\n",
    "\n",
    "    # Soln\n",
    "    x0 = np.ones_like(x)\n",
    "    x1 = x\n",
    "    x2 = x**2\n",
    "    x3 = x**3\n",
    "    \n",
    "    X = np.column_stack([x0,x1,x2,x3])\n",
    "\n",
    "    y_pred = X @ theta \n",
    "    # y_pred = get_predicion(x,theta) # can also use earlier fct\n",
    "    \n",
    "    dtheta = 1/len(y) * 2*(X.T @ (y_pred - y) )\n",
    "    \n",
    "    return dtheta\n"
   ]
  },
  {
   "cell_type": "markdown",
   "id": "13f742ae-57a1-40f5-9db6-3b399e2c754b",
   "metadata": {},
   "source": [
    "## Step 3: Set up a training loop to infer the parameters\n",
    "\n",
    "Recall: To update the parameters of the loss by stochastic gradient descent, we simply update the parameters by\n",
    "\n",
    "$$\\theta \\leftarrow \\theta - \\alpha \\nabla_\\theta\\mathcal{L}$$\n",
    "\n",
    "and then iterate over these update steps.\n",
    "\n",
    "Since you've coded up all of the above functions, we'll give you the training loop code (see below):\n",
    "\n"
   ]
  },
  {
   "cell_type": "code",
   "execution_count": 15,
   "id": "3581699b-f46d-486b-96f0-94612f73b296",
   "metadata": {},
   "outputs": [],
   "source": [
    "alpha=.005"
   ]
  },
  {
   "cell_type": "code",
   "execution_count": 16,
   "id": "65ef46e2-7edb-41f8-8505-ecfb9d9a8c8b",
   "metadata": {},
   "outputs": [],
   "source": [
    "losses = []\n",
    "\n",
    "for i in range(501):\n",
    "\n",
    "    # Calculate y_pred\n",
    "    y_pred = get_predicion(x,theta)\n",
    "    \n",
    "    # Get the loss\n",
    "    loss = get_loss(y_pred,y)\n",
    "\n",
    "    # Calculate the gradient\n",
    "    dtheta = get_grad(x,y,theta)\n",
    "    \n",
    "    # Update the parameters\n",
    "    theta -= alpha * dtheta\n",
    "    \n",
    "    # Save the values\n",
    "    losses.append(loss)"
   ]
  },
  {
   "cell_type": "code",
   "execution_count": 17,
   "id": "725a350c-82aa-43a4-bfe1-afadac6e403d",
   "metadata": {},
   "outputs": [
    {
     "data": {
      "text/plain": [
       "Text(0, 0.5, 'Loss')"
      ]
     },
     "execution_count": 17,
     "metadata": {},
     "output_type": "execute_result"
    },
    {
     "data": {
      "image/png": "[encoded data removed]",
      "text/plain": [
       "<Figure size 640x480 with 1 Axes>"
      ]
     },
     "metadata": {},
     "output_type": "display_data"
    }
   ],
   "source": [
    "plt.plot(losses)\n",
    "\n",
    "plt.xlabel('iterations',fontsize=16)\n",
    "plt.ylabel('Loss',fontsize=16)"
   ]
  },
  {
   "cell_type": "code",
   "execution_count": 18,
   "id": "3a8c77e6-e703-4ebc-a629-8e4c30b022d6",
   "metadata": {},
   "outputs": [
    {
     "data": {
      "text/plain": [
       "[0.12824222765127433,\n",
       " 0.12766358631570252,\n",
       " 0.12708924678897005,\n",
       " 0.1265191762045345,\n",
       " 0.12595334195512117,\n",
       " 0.12539171169060642,\n",
       " 0.1248342533159156,\n",
       " 0.12428093498894176,\n",
       " 0.12373172511848017,\n",
       " 0.12318659236217999]"
      ]
     },
     "execution_count": 18,
     "metadata": {},
     "output_type": "execute_result"
    }
   ],
   "source": [
    "losses[-10:]"
   ]
  },
  {
   "cell_type": "code",
   "execution_count": 19,
   "id": "615b8a9a-b5f5-4c79-a2f2-7cc5bde70e78",
   "metadata": {},
   "outputs": [
    {
     "data": {
      "text/plain": [
       "<matplotlib.legend.Legend at 0x125f0f7d0>"
      ]
     },
     "execution_count": 19,
     "metadata": {},
     "output_type": "execute_result"
    },
    {
     "data": {
      "image/png": "[encoded data removed]",
      "text/plain": [
       "<Figure size 640x480 with 1 Axes>"
      ]
     },
     "metadata": {},
     "output_type": "display_data"
    }
   ],
   "source": [
    "# Overlay the \"initial guess\" of the data prediction\n",
    "y_pred = get_predicion(X,theta)\n",
    "\n",
    "plt.scatter(x,y,marker='x',color='crimson',label='data')\n",
    "\n",
    "# plt.scatter(x,y_pred,marker='o',color='navy',label=r'$h_\\theta(x)$')\n",
    "\n",
    "ax = plt.gca()\n",
    "plt.text(.5,.9,f'loss = {loss:2.2f}',fontsize=16,\n",
    "         ha='center',va='top',transform=ax.transAxes)\n",
    "\n",
    "plt.xlabel('$x$',fontsize=20)\n",
    "plt.ylabel('$y$',fontsize=20)\n",
    "\n",
    "# Get the continuous version of the prediction\n",
    "f_theta = get_predicion(xx,theta)\n",
    "plt.plot(xx,f_theta, label='pred' )\n",
    "\n",
    "plt.legend(fontsize=16)"
   ]
  },
  {
   "cell_type": "markdown",
   "id": "02eb5c77-2f92-4411-b83c-207b787865b7",
   "metadata": {},
   "source": [
    "Are you happy with your model fit?\n",
    "\n",
    "(Note you might need to play with the learning rate and the number of iterations until you get convergence.)\n"
   ]
  },
  {
   "cell_type": "markdown",
   "id": "4d1e417c-db0b-44ad-a6f1-a52c5f78bbe4",
   "metadata": {},
   "source": [
    "\n",
    "**Soln:** Note, training with `alpha=0.005` and 501 iterations gave me reasonably good convergence :)"
   ]
  },
  {
   "cell_type": "code",
   "execution_count": null,
   "id": "ab246f01-8503-4b9d-b9ef-120f8b389354",
   "metadata": {},
   "outputs": [],
   "source": []
  },
  {
   "cell_type": "code",
   "execution_count": 20,
   "id": "da3d38d9-039b-45c4-8c37-45d1af431817",
   "metadata": {},
   "outputs": [
    {
     "data": {
      "text/plain": [
       "array([-0.90057052,  2.54263299,  1.9724248 , -0.92633401])"
      ]
     },
     "execution_count": 20,
     "metadata": {},
     "output_type": "execute_result"
    }
   ],
   "source": [
    "theta"
   ]
  },
  {
   "cell_type": "code",
   "execution_count": null,
   "id": "16aa9e82-d5f7-4a9a-a329-3384f658630e",
   "metadata": {},
   "outputs": [],
   "source": []
  },
  {
   "cell_type": "markdown",
   "id": "436e522c-b586-4460-b59b-b65ff96cfea8",
   "metadata": {},
   "source": [
    "## Step 4:; Sharing the discovery\n",
    "\n",
    "When you found a model you're happy with, got to :\n",
    "\n",
    "[PollEv.com/nicolehartman968](PollEv.com/nicolehartman968)\n",
    "\n",
    "and enter the $\\theta_0, \\theta_1,\\theta_2,\\theta_3$ values that you get.\n",
    "\n",
    "(Hint, they should be integers, so round the answers you submit 😄)"
   ]
  },
  {
   "cell_type": "code",
   "execution_count": null,
   "id": "ac9ed8fc-d6f6-43b5-84bc-c04d9c73dfaf",
   "metadata": {},
   "outputs": [],
   "source": []
  },
  {
   "cell_type": "code",
   "execution_count": null,
   "id": "b37f3145-d5c7-4c09-bbd8-c5d8b3f1c710",
   "metadata": {},
   "outputs": [],
   "source": []
  }
 ],
 "metadata": {
  "kernelspec": {
   "display_name": "Python 3 (ipykernel)",
   "language": "python",
   "name": "python3"
  },
  "language_info": {
   "codemirror_mode": {
    "name": "ipython",
    "version": 3
   },
   "file_extension": ".py",
   "mimetype": "text/x-python",
   "name": "python",
   "nbconvert_exporter": "python",
   "pygments_lexer": "ipython3",
   "version": "3.11.8"
  }
 },
 "nbformat": 4,
 "nbformat_minor": 5
}
