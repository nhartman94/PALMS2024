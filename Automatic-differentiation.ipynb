{
 "cells": [
  {
   "cell_type": "markdown",
   "id": "04c1eff5-7b6a-48ab-8e80-a9cfd87a8349",
   "metadata": {},
   "source": [
    "# Automatic differentiation\n",
    "\n",
    "[![Open In Colab](https://colab.research.google.com/assets/colab-badge.svg)](https://colab.research.google.com/github/nhartman94/PALMS2024/blob/main/Automatic-differentiation.ipynb)\n",
    "\n",
    "\n",
    "What's the \"magic sauce\" that helps NNs train? Auto-diff! These are the frameworks that modern deep learning libraries such as jax, pytorch, and tensorflow are written in.\n",
    "\n",
    "And we'll dive into what auto-diff means and how to get gradients in jax."
   ]
  },
  {
   "cell_type": "code",
   "execution_count": null,
   "id": "945073cc-f58d-4a8f-ab75-c6bfd2db3581",
   "metadata": {},
   "outputs": [],
   "source": [
    "import jax\n",
    "from jax import grad\n",
    "import jax.numpy as jnp\n",
    "\n",
    "import matplotlib.pyplot as plt"
   ]
  },
  {
   "cell_type": "markdown",
   "id": "b769c70a-b3af-4109-9277-1ff9b8c0abfb",
   "metadata": {},
   "source": [
    "Let's check how jax gets gradients automatically!\n",
    "\n",
    "Let's start with a very simple toy example:\n",
    "\n",
    "$$z = x * y$$"
   ]
  },
  {
   "cell_type": "code",
   "execution_count": null,
   "id": "31b8711f-4f70-401b-898a-430e0be74af3",
   "metadata": {},
   "outputs": [],
   "source": [
    "def z(x,y): \n",
    "    return x * y"
   ]
  },
  {
   "cell_type": "markdown",
   "id": "9777e81f-4950-4013-9a87-561282adf57c",
   "metadata": {},
   "source": [
    "Let $x=1$ and $y=2$, and check the program evaluation."
   ]
  },
  {
   "cell_type": "code",
   "execution_count": null,
   "id": "326b61a8-fa2e-41ee-a44c-270304001a94",
   "metadata": {},
   "outputs": [],
   "source": [
    "x=1.\n",
    "y=2.\n",
    "\n",
    "z(x,y)"
   ]
  },
  {
   "cell_type": "markdown",
   "id": "862d389b-8de3-466e-bc86-f873a5e02784",
   "metadata": {},
   "source": [
    "OK, so let's let auto-diff do it's magic and calculate the gradient for us!!"
   ]
  },
  {
   "cell_type": "code",
   "execution_count": null,
   "id": "bfd402ed-3b7b-493b-8d86-288217007057",
   "metadata": {},
   "outputs": [],
   "source": [
    "dz = grad(z)(x,y)\n",
    "dz"
   ]
  },
  {
   "cell_type": "markdown",
   "id": "3d3cb34d-2e60-4fe4-902b-1690137d5bd8",
   "metadata": {},
   "source": [
    "Why 2? B/c jax is automatically computing the gradient w/r.t. the _first_ argument $x$, and $dz/dx = y = 2$\n",
    "\n",
    "Is there a way we can also get the gradient w/r.t. the other inputs too? \n",
    "\n",
    "Yep! There's two ways we can do this.\n",
    "\n",
    "1. By the positional arguments"
   ]
  },
  {
   "cell_type": "code",
   "execution_count": null,
   "id": "4c525735-e9db-4c62-9c8e-b532a16c6772",
   "metadata": {},
   "outputs": [],
   "source": [
    "grad(z,argnums=(0,1))(x,y)"
   ]
  },
  {
   "cell_type": "markdown",
   "id": "43892350-a466-4dee-bb37-d1bc17e14311",
   "metadata": {},
   "source": [
    "A.k.a, what this is saying is \n",
    "\n",
    "$$\\left. \\frac{\\partial z}{\\partial x}\\right\\vert_{x,y=(1,2)} = y = 2$$\n",
    "$$\\left. \\frac{\\partial z}{\\partial y}\\right\\vert_{x,y=(1,2)} = x = 1$$"
   ]
  },
  {
   "cell_type": "markdown",
   "id": "a14075cc-7ac9-4661-96bf-a7e0401b1342",
   "metadata": {},
   "source": [
    "2. By evaluating with a dictionary\n",
    "\n",
    "Alternatively, if we pass a _dictionary_ to the function we're creating, we can get all the gradients at once!"
   ]
  },
  {
   "cell_type": "code",
   "execution_count": null,
   "id": "cff966d4-a709-444e-8d28-4ffd13064523",
   "metadata": {},
   "outputs": [],
   "source": [
    "def z2(param_dict):\n",
    "    x = param_dict['x']\n",
    "    y = param_dict['y']\n",
    "    return x * y"
   ]
  },
  {
   "cell_type": "code",
   "execution_count": null,
   "id": "1767a320-1db9-427a-9ca4-6d6e96cfac72",
   "metadata": {},
   "outputs": [],
   "source": [
    "# Sanity check the forward pass is the same\n",
    "z2({'x':x,'y':y})"
   ]
  },
  {
   "cell_type": "code",
   "execution_count": null,
   "id": "81a130a9-f814-4cf8-90f9-8e4e271c499a",
   "metadata": {},
   "outputs": [],
   "source": [
    "# and get the gradients\n",
    "grad(z2)({'x':x,'y':y})"
   ]
  },
  {
   "cell_type": "markdown",
   "id": "54083e0f-03db-4eb2-81bb-5a9bbff2e56b",
   "metadata": {},
   "source": [
    "Again, it matches our expectation!!"
   ]
  },
  {
   "cell_type": "markdown",
   "id": "a9dcc5ec-62f3-4165-9637-c2804ef4a8d8",
   "metadata": {},
   "source": [
    "## Build a mini NN in jax\n",
    "\n",
    "OK, now that we know how to calculate gradients w/r.t. multiple inputs, we're ready to build (and train) our mini NN.\n",
    "\n",
    "If you know numpy, coding in jax is (mostly) easy! Just replace `np` with `jnp`."
   ]
  },
  {
   "cell_type": "markdown",
   "id": "8a39b03a-caa9-46d7-a5fc-26c636e23443",
   "metadata": {},
   "source": [
    "**Step 1:** Code up the forward pass for a single layer NN."
   ]
  },
  {
   "cell_type": "code",
   "execution_count": null,
   "id": "09a5f92c-ea2a-4879-8efe-3859151574f1",
   "metadata": {},
   "outputs": [],
   "source": [
    "def myNN(param_dict, X):\n",
    "    '''\n",
    "    param_dict: dictionary (keys W1, b1, W2, b2)\n",
    "    x: The input vector\n",
    "    '''\n",
    "\n",
    "    W1 = param_dict[\"W1\"]\n",
    "    b1 = param_dict[\"b1\"]\n",
    "\n",
    "    W2 = param_dict[\"W2\"]\n",
    "    b2 = param_dict[\"b2\"]\n",
    "\n",
    "    # Fill in the forward pass for the NN\n",
    "    '''\n",
    "    YOUR CODE HERE\n",
    "    '''\n",
    "    \n",
    "    return out"
   ]
  },
  {
   "cell_type": "markdown",
   "id": "4e12bae0-25f8-4f95-b97d-2e899f19b95f",
   "metadata": {},
   "source": [
    "Note, `param_dict` is the first arg to the NN as jax wants to differentiate w/r.t. the first input."
   ]
  },
  {
   "cell_type": "code",
   "execution_count": null,
   "id": "98434c18-aeaf-4c04-9bf0-ddd7808cf50e",
   "metadata": {},
   "outputs": [],
   "source": []
  },
  {
   "cell_type": "markdown",
   "id": "bef4ca0b-46b6-4195-89a7-5db8eab8d3eb",
   "metadata": {},
   "source": [
    "**Initialize the parameters of the NN**\n",
    "\n",
    "Note, jax always needs specify a key for generating random numbers, and that's what the lines below are doing.\n",
    "\n",
    "To match the previous ex, suppose that our NN has 1d input and output, and 20 hidden neurons."
   ]
  },
  {
   "cell_type": "code",
   "execution_count": null,
   "id": "97c8c0da-d8a2-400e-ac78-d628b61c43a8",
   "metadata": {},
   "outputs": [],
   "source": [
    "key = jax.random.key(0)\n",
    "key, W1_key, b1_key, W2_key, b2_key = jax.random.split(key, 5)\n",
    "\n",
    "# TO DO Fill in \n",
    "nHidden=\n",
    "\n",
    "W1 = jax.random.normal(W1_key, (1,nHidden))\n",
    "b1 = jax.random.normal(b1_key, (1,nHidden,))\n",
    "\n",
    "W2 = jax.random.normal(W2_key, (nHidden,1))\n",
    "b2 = jax.random.normal(b2_key, ())\n",
    "\n",
    "param_dict = {\n",
    "    'W1':W1,\n",
    "    'b1':b1,\n",
    "    'W2':W2,\n",
    "    'b2':b2,\n",
    "}"
   ]
  },
  {
   "cell_type": "markdown",
   "id": "922157a6-09ad-4c09-94a2-0d199d6591c8",
   "metadata": {},
   "source": [
    "**The target function we're looking at**"
   ]
  },
  {
   "cell_type": "code",
   "execution_count": null,
   "id": "37292f9f-d1ae-4c34-ba3d-7af33983d232",
   "metadata": {},
   "outputs": [],
   "source": [
    "def f(x):\n",
    "    return x**3-.3*x**4-2*jnp.sin(x)"
   ]
  },
  {
   "cell_type": "code",
   "execution_count": null,
   "id": "a0c8d115-c01b-49c7-9f2a-e28528665baf",
   "metadata": {},
   "outputs": [],
   "source": [
    "xx = jnp.linspace(-1.5,3.5,201)\n",
    "plt.plot(xx,f(xx),color='dodgerblue',lw=2,label='$f(x)$')\n",
    "plt.xlabel('$x$',fontsize=20)\n",
    "plt.legend(fontsize=20)\n",
    "ax = plt.gca()\n",
    "ax.spines['right'].set_visible(False)\n",
    "ax.spines['top'].set_visible(False)"
   ]
  },
  {
   "cell_type": "markdown",
   "id": "01820708-ed1b-4a08-b379-ae4e4f46f8c7",
   "metadata": {},
   "source": [
    "Before we trained the model at all, let's evaluate the prediction."
   ]
  },
  {
   "cell_type": "code",
   "execution_count": null,
   "id": "4633fcce-0888-433f-903a-be6d72311bdc",
   "metadata": {},
   "outputs": [],
   "source": [
    "xx[:,None].shape"
   ]
  },
  {
   "cell_type": "code",
   "execution_count": null,
   "id": "ff7f127a-34fb-4d6b-b293-4d14a37f91db",
   "metadata": {},
   "outputs": [],
   "source": [
    "y_out = myNN(param_dict,xx[:,None])"
   ]
  },
  {
   "cell_type": "code",
   "execution_count": null,
   "id": "0e59259c-435f-4602-92dc-5869ae33c656",
   "metadata": {},
   "outputs": [],
   "source": [
    "xx = jnp.linspace(-1.5,3.5,201)\n",
    "plt.plot(xx,f(xx),color='dodgerblue',lw=2,label='$f(x)$')\n",
    "plt.plot(xx,y_out,color='lightgrey',lw=2,label='Untrained NN')\n",
    "plt.xlabel('$x$',fontsize=20)\n",
    "plt.legend(fontsize=20)\n",
    "plt.ylim(-3,6)\n",
    "\n",
    "ax = plt.gca()\n",
    "ax.spines['right'].set_visible(False)\n",
    "ax.spines['top'].set_visible(False)"
   ]
  },
  {
   "cell_type": "markdown",
   "id": "936c45b5-f547-4e96-9f34-4ce7101192e4",
   "metadata": {},
   "source": []
  },
  {
   "cell_type": "markdown",
   "id": "a9d4a6fc-1238-4960-a5a6-28a631d900b9",
   "metadata": {},
   "source": [
    "**The (x,y) labels for training the NN?**\n",
    "\n",
    "- Sample $x$ from [0,1]\n",
    "- Evaluate as $y =f(x)$\n",
    "- Add noise to these $y$ values\n"
   ]
  },
  {
   "cell_type": "code",
   "execution_count": null,
   "id": "353ac17a-39fa-41ea-846b-dff5e21e0c05",
   "metadata": {},
   "outputs": [],
   "source": [
    "def make_batch(key,N=32):\n",
    "    \n",
    "    x = jax.random.uniform(key,(N,1),minval=-1.5,maxval=3.5)\n",
    "    y = f(x)\n",
    "    \n",
    "    key,subkey = jax.random.split(key)\n",
    "    eps = 0.02 * jax.random.normal(subkey,(N,1))\n",
    "\n",
    "    y+=eps\n",
    "\n",
    "    return x,y"
   ]
  },
  {
   "cell_type": "code",
   "execution_count": null,
   "id": "a9d38a72-dbbd-4264-b0a2-b209678a2406",
   "metadata": {},
   "outputs": [],
   "source": [
    "# Sample from the batch\n",
    "key,subkey = jax.random.split(key, 2)\n",
    "x,y = make_batch(subkey)"
   ]
  },
  {
   "cell_type": "code",
   "execution_count": null,
   "id": "69685aa3-2ec0-4599-8149-8ee8206a9c3b",
   "metadata": {},
   "outputs": [],
   "source": [
    "x.shape, y.shape"
   ]
  },
  {
   "cell_type": "code",
   "execution_count": null,
   "id": "b0d1b2c3-0d2d-4fcc-90c4-b79932914f54",
   "metadata": {},
   "outputs": [],
   "source": []
  },
  {
   "cell_type": "markdown",
   "id": "0ea15724-9dbe-4ec1-9849-797dfa979a9e",
   "metadata": {},
   "source": [
    "Look at the data, overlay the batch samples on the plot"
   ]
  },
  {
   "cell_type": "code",
   "execution_count": null,
   "id": "448386cf-a471-4ce2-b75e-2e530cbefc15",
   "metadata": {},
   "outputs": [],
   "source": [
    "plt.plot(xx,f(xx),color='dodgerblue',lw=2,label='$f(x)$')\n",
    "plt.scatter(x,y,marker='x',color='crimson',lw=2,label='samples')\n",
    "plt.xlabel('$x$',fontsize=20)\n",
    "plt.legend(fontsize=20)\n",
    "ax = plt.gca()\n",
    "ax.spines['right'].set_visible(False)\n",
    "ax.spines['top'].set_visible(False)"
   ]
  },
  {
   "cell_type": "code",
   "execution_count": null,
   "id": "5d1d0e13-2813-4dcc-9594-b3e0cc025508",
   "metadata": {},
   "outputs": [],
   "source": []
  },
  {
   "cell_type": "markdown",
   "id": "e33ed212-b91e-498a-8248-cf2193f87805",
   "metadata": {},
   "source": [
    "OK, from here we're ready to setup a training loop!!"
   ]
  },
  {
   "cell_type": "code",
   "execution_count": null,
   "id": "1cf2b079-6459-4512-888e-fc0351cf1f7b",
   "metadata": {},
   "outputs": [],
   "source": [
    "def mse_loss(param_dict,x,y):\n",
    "    '''\n",
    "    Calculate the MSE loss\n",
    "    '''\n",
    "\n",
    "    # Evaluate model\n",
    "    y_pred = myNN(param_dict,x)\n",
    "    \n",
    "    # Calculate loss\n",
    "    L = jnp.mean((y_pred - y)**2)\n",
    "\n",
    "    return L\n"
   ]
  },
  {
   "cell_type": "code",
   "execution_count": null,
   "id": "00fe6add-6848-4f4c-af0b-6fec5c2c39fa",
   "metadata": {},
   "outputs": [],
   "source": [
    "alpha=3e-4 # learning rate\n",
    "losses = []\n",
    "\n",
    "for i in range(1001):\n",
    "\n",
    "    # Sample batch\n",
    "    key,subkey = jax.random.split(key, 2)\n",
    "    x,y = make_batch(subkey)\n",
    "\n",
    "    # Calculate the loss\n",
    "    L =  mse_loss(param_dict,x,y)\n",
    "    \n",
    "    # Get gradients\n",
    "    dLoss = grad(mse_loss)(param_dict,x,y)\n",
    "    \n",
    "    # Update parameters\n",
    "    param_dict[\"W1\"] -= alpha * dLoss[\"W1\"]\n",
    "    param_dict[\"b1\"] -= alpha * dLoss[\"b1\"]\n",
    "    param_dict[\"W2\"] -= alpha * dLoss[\"W2\"]\n",
    "    param_dict[\"b2\"] -= alpha * dLoss[\"b2\"]\n",
    "    \n",
    "    # append loss\n",
    "    losses.append(L)"
   ]
  },
  {
   "cell_type": "markdown",
   "id": "03acaad0-b066-4b96-b4d1-d6a276fc9650",
   "metadata": {},
   "source": [
    "**Plot the final loss predictions:**"
   ]
  },
  {
   "cell_type": "code",
   "execution_count": null,
   "id": "62b03826-fad2-49f5-b620-fee379c0b6db",
   "metadata": {},
   "outputs": [],
   "source": [
    "plt.plot(losses,color='dodgerblue')\n",
    "plt.xlabel('iterations',fontsize=16)\n",
    "plt.ylabel('Loss',fontsize=16)\n",
    "plt.ylim(0,1)"
   ]
  },
  {
   "cell_type": "markdown",
   "id": "7a8f573b-eaf9-44c6-81a4-941f312f466a",
   "metadata": {},
   "source": [
    "**Look at the final model prediction**"
   ]
  },
  {
   "cell_type": "code",
   "execution_count": null,
   "id": "fcdc0133-8ae6-452a-b5a7-5aa5af779213",
   "metadata": {},
   "outputs": [],
   "source": [
    "plt.plot(xx,f(xx),color='dodgerblue',lw=2,label='$f(x)$')\n",
    "\n",
    "y_out = myNN(param_dict,xx[:,None])\n",
    "plt.plot(xx,y_out,color='limegreen',lw=2,label=f'NN: H={nHidden}')\n",
    "plt.xlabel('$x$',fontsize=20)\n",
    "plt.legend(fontsize=16)\n",
    "# plt.ylim(0,1)\n",
    "\n",
    "ax = plt.gca()\n",
    "ax.spines['right'].set_visible(False)\n",
    "ax.spines['top'].set_visible(False)"
   ]
  },
  {
   "cell_type": "markdown",
   "id": "ae923f45-54dd-4bfe-937d-b5d2ac8d70ec",
   "metadata": {},
   "source": [
    "It doesn't look so good right out of the box... do you have ideas from what you learned today how to improve the model performance?\n",
    "\n",
    "**Soln:** Increase the number of hidden nodes :) 1600 was better for me."
   ]
  },
  {
   "cell_type": "code",
   "execution_count": null,
   "id": "943230b8-7b03-4aa9-a626-8929a59ef164",
   "metadata": {},
   "outputs": [],
   "source": []
  },
  {
   "cell_type": "markdown",
   "id": "dcf38e32-d982-4416-a467-39db9ac61924",
   "metadata": {},
   "source": [
    "**Bonus:** What about increasing the depth of the NN?"
   ]
  },
  {
   "cell_type": "code",
   "execution_count": null,
   "id": "865c345c-cf81-4327-828b-e11dd87ab996",
   "metadata": {},
   "outputs": [],
   "source": []
  },
  {
   "cell_type": "markdown",
   "id": "2c91e714-b44e-4bf4-8e96-f2eed0af66ba",
   "metadata": {},
   "source": [
    "Tomorrow with Carol you'll learn some of the packages in jax that streamlines some of this boiler plate code, but we've gone over a lot of basic concepts today, so ... should be good to go!!"
   ]
  },
  {
   "cell_type": "code",
   "execution_count": null,
   "id": "ce400abd-d34d-4a0e-8072-8c1485073044",
   "metadata": {},
   "outputs": [],
   "source": []
  },
  {
   "cell_type": "markdown",
   "id": "d9c2cd99-5522-4e92-8f1c-ee3ece5b521d",
   "metadata": {},
   "source": [
    "**Further resources:**\n",
    "- For more details, see L. Heinrich's [AD tutorial](https://github.com/lukasheinrich/pyhep2020-autodiff-tutorial?tab=readme-ov-file)\n",
    "- See also the jax [Getting Started](https://jax.readthedocs.io/en/latest/beginner_guide.html#beginner-guide) tutorial."
   ]
  },
  {
   "cell_type": "code",
   "execution_count": null,
   "id": "f38b12eb-b64d-4361-bbee-035f003794da",
   "metadata": {},
   "outputs": [],
   "source": []
  }
 ],
 "metadata": {
  "kernelspec": {
   "display_name": "Python 3 (ipykernel)",
   "language": "python",
   "name": "python3"
  },
  "language_info": {
   "codemirror_mode": {
    "name": "ipython",
    "version": 3
   },
   "file_extension": ".py",
   "mimetype": "text/x-python",
   "name": "python",
   "nbconvert_exporter": "python",
   "pygments_lexer": "ipython3",
   "version": "3.11.8"
  }
 },
 "nbformat": 4,
 "nbformat_minor": 5
}
