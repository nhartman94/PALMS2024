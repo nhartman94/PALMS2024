{
 "cells": [
  {
   "cell_type": "markdown",
   "id": "b56465c1-3d89-4897-a963-bc887316aa9d",
   "metadata": {},
   "source": [
    "# Intro to ML and NN\n",
    "\n",
    "Nicole Hartman, PALMS2024\n",
    "\n",
    "## Table of Contents:\n",
    "\n",
    "**Exercise 1:** Linear models\n",
    "\n",
    "**Exercise 2:** Neural networks\n",
    "\n",
    "**Exercise 3:** Automatic diff frameworks"
   ]
  },
  {
   "cell_type": "code",
   "execution_count": 1,
   "id": "5744e8aa-cbad-41bc-ad37-1ec98730af64",
   "metadata": {},
   "outputs": [],
   "source": [
    "import numpy as np\n",
    "import matplotlib.pyplot as plt"
   ]
  },
  {
   "cell_type": "markdown",
   "id": "7d905c13-f688-4270-9e05-26d7d3d237c1",
   "metadata": {},
   "source": [
    "# Exercise 1: What is the model?\n",
    "\n",
    "\n",
    "**Step 1:** Load in the model in numpy"
   ]
  },
  {
   "cell_type": "code",
   "execution_count": 2,
   "id": "bc4133b2-0ee6-494d-943f-efe47e51337d",
   "metadata": {},
   "outputs": [],
   "source": [
    "# Open the file (Is this smth they'll have learned"
   ]
  },
  {
   "cell_type": "code",
   "execution_count": null,
   "id": "b2c54f03-088a-448f-8ef5-4d525874aba4",
   "metadata": {},
   "outputs": [],
   "source": []
  },
  {
   "cell_type": "code",
   "execution_count": 20,
   "id": "65a17e36-c56c-4c58-a120-f75299f9e265",
   "metadata": {},
   "outputs": [
    {
     "data": {
      "text/plain": [
       "Text(0, 0.5, '$y$')"
      ]
     },
     "execution_count": 20,
     "metadata": {},
     "output_type": "execute_result"
    },
    {
     "data": {
      "image/png": "[encoded data removed]",
      "text/plain": [
       "<Figure size 640x480 with 1 Axes>"
      ]
     },
     "metadata": {},
     "output_type": "display_data"
    }
   ],
   "source": [
    "'''\n",
    "Soln: The code that generated the dataset\n",
    "'''\n",
    "N = 32\n",
    "x = np.random.uniform(-3,3,N)\n",
    "\n",
    "# Construct the \"features\" for the linear model,\n",
    "# assumed to be a third order polynomial\n",
    "x0 = np.ones_like(x)\n",
    "x1 = x\n",
    "x2 = x**2\n",
    "x3 = x**3\n",
    "\n",
    "X = np.column_stack([x0,x1,x2,x3])\n",
    "\n",
    "eps = 0.2 * np.random.randn(N)\n",
    "\n",
    "theta_true = np.array([-1,3,2,-1])\n",
    "\n",
    "y = X @ theta_true + eps\n",
    "\n",
    "plt.scatter(x,y,marker='x',color='crimson')\n",
    "plt.xlabel('$x$',fontsize=20)\n",
    "plt.ylabel('$y$',fontsize=20)"
   ]
  },
  {
   "cell_type": "code",
   "execution_count": null,
   "id": "4a7eefc1-2210-482e-a7e2-fd2ec7989413",
   "metadata": {},
   "outputs": [],
   "source": []
  },
  {
   "cell_type": "code",
   "execution_count": null,
   "id": "06bdf199-db3f-482f-bfea-3c63f42831fd",
   "metadata": {},
   "outputs": [],
   "source": []
  },
  {
   "cell_type": "code",
   "execution_count": 21,
   "id": "08932674-a569-41ec-a0eb-e974920ce57e",
   "metadata": {},
   "outputs": [],
   "source": [
    "# X.shape"
   ]
  },
  {
   "cell_type": "code",
   "execution_count": 22,
   "id": "943ab9dc-fdfd-421b-b4a6-8386ade69bff",
   "metadata": {},
   "outputs": [],
   "source": [
    "# y.shape"
   ]
  },
  {
   "cell_type": "markdown",
   "id": "e1cdc01a-64eb-4ff9-bfe2-c296fcffed8d",
   "metadata": {},
   "source": [
    "**Q:** Should I ask them to code up the evaluation function?"
   ]
  },
  {
   "cell_type": "code",
   "execution_count": 23,
   "id": "d2c89051-ae61-4ef6-8b2c-eef37a2bacf6",
   "metadata": {},
   "outputs": [],
   "source": [
    "# xx_all.shape"
   ]
  },
  {
   "cell_type": "code",
   "execution_count": 24,
   "id": "50ed30ba-77b5-4024-ba2a-f8d4b8369ff3",
   "metadata": {},
   "outputs": [],
   "source": [
    "theta = np.random.randn(4,)"
   ]
  },
  {
   "cell_type": "code",
   "execution_count": 25,
   "id": "887aa6f5-41c0-4468-80b2-2ff2e8698c9f",
   "metadata": {},
   "outputs": [],
   "source": [
    "def get_predicion(X,theta):\n",
    "    '''\n",
    "    Evaluate a linear model that is a 3rd order polynomial\n",
    "\n",
    "    fx = theta[0] + theta[1] * x + \n",
    "\n",
    "\n",
    "    Input:\n",
    "    - x: shape N\n",
    "    - theta: 4\n",
    "\n",
    "    Output:\n",
    "    - fx: shape N\n",
    "    '''\n",
    "    \n",
    "    assert theta.shape[0] == 4 # sanity check for 3rd order polynomial\n",
    "    \n",
    "    '''\n",
    "    Your code here!\n",
    "    '''\n",
    "    # fx = theta[0] + theta[1] * x + theta[2] * x**2 + theta[3] * x**3  # soln\n",
    "    fx = theta[0] * X[:,0] + theta[1] * X[:,1] + theta[2] * X[:,2] + theta[3] * X[:,3]\n",
    "    \n",
    "    return fx"
   ]
  },
  {
   "cell_type": "code",
   "execution_count": null,
   "id": "17e7a416-a570-4b2c-80b5-4e8686df02a4",
   "metadata": {},
   "outputs": [],
   "source": []
  },
  {
   "cell_type": "markdown",
   "id": "d4de649d-1538-47b6-b72d-288daf6df2f3",
   "metadata": {},
   "source": [
    "**What is the loss?**"
   ]
  },
  {
   "cell_type": "code",
   "execution_count": 26,
   "id": "871bc376-ec25-40a2-b40d-18974d158fda",
   "metadata": {},
   "outputs": [
    {
     "data": {
      "text/plain": [
       "(4,)"
      ]
     },
     "execution_count": 26,
     "metadata": {},
     "output_type": "execute_result"
    }
   ],
   "source": [
    "theta.shape"
   ]
  },
  {
   "cell_type": "code",
   "execution_count": 27,
   "id": "ad185e8e-7e62-4a6d-a3a6-fecac789eb00",
   "metadata": {},
   "outputs": [],
   "source": [
    "def get_loss(y_pred, y_true):\n",
    "    '''\n",
    "    Calculate the Mean Squared Error (MSE) loss over N examples\n",
    "\n",
    "    Inputs:\n",
    "    - y_pred: (N,) array\n",
    "    - y_true: (N,) array\n",
    "\n",
    "    Outputs:\n",
    "    - loss: scalar\n",
    "    '''\n",
    "\n",
    "    assert len(y_pred) == len(y_true) # sanity check the inputs make sense\n",
    "\n",
    "    '''\n",
    "    Your code here\n",
    "    '''\n",
    "    N = len(y_pred)\n",
    "    loss = (1/N) * np.sum((y_pred - y_true)**2) # soln\n",
    "\n",
    "    return loss"
   ]
  },
  {
   "cell_type": "code",
   "execution_count": 28,
   "id": "0f858615-95e2-41da-95a7-d0c2e641f11a",
   "metadata": {},
   "outputs": [],
   "source": [
    "'''\n",
    "Note, maybe I want to provide the full vector X?\n",
    "'''\n",
    "y_pred = get_predicion(X, theta) \n",
    "loss = get_loss(y_pred,y)"
   ]
  },
  {
   "cell_type": "code",
   "execution_count": 29,
   "id": "eab8c1c1-a701-40f5-899e-9d68bfd5cbba",
   "metadata": {},
   "outputs": [
    {
     "data": {
      "text/plain": [
       "array([-33.46514069,   9.10979428,  12.75689016, -14.65549159,\n",
       "         9.27175555,  25.66978852,  -0.52710156,   0.12888637,\n",
       "        -8.2323608 ,  11.33310816,   1.62343486,  -1.26253593,\n",
       "       -14.00302194,   1.43349331, -14.75228351,   0.68916163,\n",
       "         0.60253112,   0.6085815 ,   0.05041023,  19.1966382 ,\n",
       "         3.28242373,   6.52969426,  -1.12768305,  -0.28308374,\n",
       "         0.3916423 ,   4.20709273,  -1.77596434, -16.74512573,\n",
       "        -1.78035453, -22.0886391 ,  26.59914073,   2.35864003])"
      ]
     },
     "execution_count": 29,
     "metadata": {},
     "output_type": "execute_result"
    }
   ],
   "source": [
    "y_pred"
   ]
  },
  {
   "cell_type": "code",
   "execution_count": null,
   "id": "c83ef079-9b0e-4646-b14f-47d38a4b1c60",
   "metadata": {},
   "outputs": [],
   "source": []
  },
  {
   "cell_type": "code",
   "execution_count": 33,
   "id": "c3fe3fff-068b-459e-916c-16f63f8669da",
   "metadata": {},
   "outputs": [
    {
     "data": {
      "text/plain": [
       "114.4861299266474"
      ]
     },
     "execution_count": 33,
     "metadata": {},
     "output_type": "execute_result"
    }
   ],
   "source": [
    "# The initial loss\n",
    "loss"
   ]
  },
  {
   "cell_type": "code",
   "execution_count": 34,
   "id": "eb3b1cf2-c008-491b-904a-f60da919c7cb",
   "metadata": {},
   "outputs": [],
   "source": [
    "def vectorify(x):\n",
    "    x0 = np.ones_like(x)\n",
    "    x1 = x\n",
    "    x2 = x**2\n",
    "    x3 = x**3\n",
    "    \n",
    "    X = np.column_stack([x0,x1,x2,x3])\n",
    "    return X    "
   ]
  },
  {
   "cell_type": "code",
   "execution_count": null,
   "id": "b3de02cb-45e4-4f57-ae70-7648bab0af1e",
   "metadata": {},
   "outputs": [],
   "source": []
  },
  {
   "cell_type": "code",
   "execution_count": 45,
   "id": "9dc51338-9aa5-49c1-9ddf-0dc4553dc987",
   "metadata": {},
   "outputs": [
    {
     "data": {
      "text/plain": [
       "<matplotlib.legend.Legend at 0x10ef8d8d0>"
      ]
     },
     "execution_count": 45,
     "metadata": {},
     "output_type": "execute_result"
    },
    {
     "data": {
      "image/png": "[encoded data removed]",
      "text/plain": [
       "<Figure size 640x480 with 1 Axes>"
      ]
     },
     "metadata": {},
     "output_type": "display_data"
    }
   ],
   "source": [
    "# Overlay the \"initial guess\" of the data prediction\n",
    "y_pred = get_predicion(X,theta)\n",
    "\n",
    "plt.scatter(x,y,marker='x',color='crimson',label='data')\n",
    "\n",
    "# plt.scatter(x,y_pred,marker='o',color='navy',label=r'$h_\\theta(x)$')\n",
    "\n",
    "ax = plt.gca()\n",
    "plt.text(.5,.9,f'loss = {loss:2.2f}',fontsize=16,\n",
    "         ha='center',va='top',transform=ax.transAxes)\n",
    "\n",
    "plt.xlabel('$x$',fontsize=20)\n",
    "plt.ylabel('$y$',fontsize=20)\n",
    "\n",
    "# Get the continuous version of the prediction\n",
    "xx = np.linspace(-3,3)\n",
    "X_smoooth = vectorify(xx)\n",
    "f_theta = get_predicion(X_smoooth,theta)\n",
    "plt.plot(xx,f_theta, label='pred' )\n",
    "\n",
    "plt.legend(fontsize=16)"
   ]
  },
  {
   "cell_type": "code",
   "execution_count": 46,
   "id": "dd59ea82-f036-48f5-a28b-96e52f11e27a",
   "metadata": {},
   "outputs": [],
   "source": [
    "def get_grad(X,y,theta):\n",
    "    '''\n",
    "    Code up the gradient of the loss with respect to theta.\n",
    "\n",
    "    Input:\n",
    "    - X: array (N,d)\n",
    "    - y: array (N,)\n",
    "    - theta: (d,)\n",
    "\n",
    "    Output:\n",
    "    - dtheta: (d,)\n",
    "    '''\n",
    "\n",
    "    assert X.shape[0] == y.shape[0]\n",
    "    assert X.shape[1] == theta.shape[0]\n",
    "    \n",
    "    '''\n",
    "    Your code here?\n",
    "    Or, do I want to just give it to them\n",
    "    '''\n",
    "    # y_pred = get_predicion\n",
    "    dtheta = 1/len(y) * 2*((X @ theta - y).T @ X)\n",
    "    # dtheta = (y_pred - y).T @ X / X.shape[0] # alternative solution\n",
    "    \n",
    "    return dtheta\n"
   ]
  },
  {
   "cell_type": "markdown",
   "id": "13f742ae-57a1-40f5-9db6-3b399e2c754b",
   "metadata": {},
   "source": [
    "**Next:** Set up a training loop to infer the parameters"
   ]
  },
  {
   "cell_type": "code",
   "execution_count": 47,
   "id": "d017f88e-ecd3-41ce-8ba8-a637aabfdde5",
   "metadata": {},
   "outputs": [
    {
     "data": {
      "text/plain": [
       "0.11344493934434771"
      ]
     },
     "execution_count": 47,
     "metadata": {},
     "output_type": "execute_result"
    }
   ],
   "source": [
    "loss"
   ]
  },
  {
   "cell_type": "code",
   "execution_count": 48,
   "id": "3581699b-f46d-486b-96f0-94612f73b296",
   "metadata": {},
   "outputs": [],
   "source": [
    "alpha=.005"
   ]
  },
  {
   "cell_type": "code",
   "execution_count": null,
   "id": "c1f4c1b9-6c47-4a70-94f1-d07a51a7fb71",
   "metadata": {},
   "outputs": [],
   "source": []
  },
  {
   "cell_type": "code",
   "execution_count": 49,
   "id": "65ef46e2-7edb-41f8-8505-ecfb9d9a8c8b",
   "metadata": {},
   "outputs": [],
   "source": [
    "losses = []\n",
    "thetas = []\n",
    "\n",
    "for i in range(501):\n",
    "\n",
    "    # Calculate y_pred\n",
    "    y_pred = get_predicion(X,theta)\n",
    "    \n",
    "    # Get the loss\n",
    "    loss = get_loss(y_pred,y)\n",
    "\n",
    "    # Calculate the gradient\n",
    "    dtheta = get_grad(X,y,theta)\n",
    "    \n",
    "    # Update the parameters\n",
    "    theta -= alpha * dtheta\n",
    "    \n",
    "    # Save the values\n",
    "    losses.append(loss)\n",
    "    thetas.append(theta)"
   ]
  },
  {
   "cell_type": "code",
   "execution_count": 50,
   "id": "725a350c-82aa-43a4-bfe1-afadac6e403d",
   "metadata": {},
   "outputs": [
    {
     "data": {
      "text/plain": [
       "[<matplotlib.lines.Line2D at 0x10fc83810>]"
      ]
     },
     "execution_count": 50,
     "metadata": {},
     "output_type": "execute_result"
    },
    {
     "data": {
      "image/png": "[encoded data removed]",
      "text/plain": [
       "<Figure size 640x480 with 1 Axes>"
      ]
     },
     "metadata": {},
     "output_type": "display_data"
    }
   ],
   "source": [
    "plt.plot(losses)\n",
    "# plt.ylim(0,10)"
   ]
  },
  {
   "cell_type": "code",
   "execution_count": 51,
   "id": "3a8c77e6-e703-4ebc-a629-8e4c30b022d6",
   "metadata": {},
   "outputs": [
    {
     "data": {
      "text/plain": [
       "[0.03321309168549366,\n",
       " 0.033204729458328405,\n",
       " 0.03319644288298179,\n",
       " 0.033188231274657,\n",
       " 0.033180093954759654,\n",
       " 0.03317203025084137,\n",
       " 0.033164039496544104,\n",
       " 0.03315612103154493,\n",
       " 0.03314827420150164,\n",
       " 0.033140498357998066]"
      ]
     },
     "execution_count": 51,
     "metadata": {},
     "output_type": "execute_result"
    }
   ],
   "source": [
    "losses[-10:]"
   ]
  },
  {
   "cell_type": "code",
   "execution_count": 52,
   "id": "d6c217d0-d3b2-4240-ba55-400c2d66ea6d",
   "metadata": {},
   "outputs": [],
   "source": [
    "# Make a gif(?)"
   ]
  },
  {
   "cell_type": "code",
   "execution_count": 53,
   "id": "615b8a9a-b5f5-4c79-a2f2-7cc5bde70e78",
   "metadata": {},
   "outputs": [
    {
     "data": {
      "text/plain": [
       "<matplotlib.legend.Legend at 0x10fd1cd10>"
      ]
     },
     "execution_count": 53,
     "metadata": {},
     "output_type": "execute_result"
    },
    {
     "data": {
      "image/png": "[encoded data removed]",
      "text/plain": [
       "<Figure size 640x480 with 1 Axes>"
      ]
     },
     "metadata": {},
     "output_type": "display_data"
    }
   ],
   "source": [
    "# Overlay the \"initial guess\" of the data prediction\n",
    "y_pred = get_predicion(X,theta)\n",
    "\n",
    "plt.scatter(x,y,marker='x',color='crimson',label='data')\n",
    "\n",
    "# plt.scatter(x,y_pred,marker='o',color='navy',label=r'$h_\\theta(x)$')\n",
    "\n",
    "ax = plt.gca()\n",
    "plt.text(.5,.9,f'loss = {loss:2.2f}',fontsize=16,\n",
    "         ha='center',va='top',transform=ax.transAxes)\n",
    "\n",
    "plt.xlabel('$x$',fontsize=20)\n",
    "plt.ylabel('$y$',fontsize=20)\n",
    "\n",
    "# Get the continuous version of the prediction\n",
    "X_smoooth = vectorify(xx)\n",
    "f_theta = get_predicion(X_smoooth,theta)\n",
    "plt.plot(xx,f_theta, label='pred' )\n",
    "\n",
    "plt.legend(fontsize=16)"
   ]
  },
  {
   "cell_type": "markdown",
   "id": "3502bf82-7a17-4612-ba6d-859c91b78fe9",
   "metadata": {},
   "source": [
    "**Feature engineering** "
   ]
  },
  {
   "cell_type": "code",
   "execution_count": null,
   "id": "ac9ed8fc-d6f6-43b5-84bc-c04d9c73dfaf",
   "metadata": {},
   "outputs": [],
   "source": []
  },
  {
   "cell_type": "code",
   "execution_count": null,
   "id": "b37f3145-d5c7-4c09-bbd8-c5d8b3f1c710",
   "metadata": {},
   "outputs": [],
   "source": []
  }
 ],
 "metadata": {
  "kernelspec": {
   "display_name": "Python 3 (ipykernel)",
   "language": "python",
   "name": "python3"
  },
  "language_info": {
   "codemirror_mode": {
    "name": "ipython",
    "version": 3
   },
   "file_extension": ".py",
   "mimetype": "text/x-python",
   "name": "python",
   "nbconvert_exporter": "python",
   "pygments_lexer": "ipython3",
   "version": "3.11.4"
  }
 },
 "nbformat": 4,
 "nbformat_minor": 5
}
