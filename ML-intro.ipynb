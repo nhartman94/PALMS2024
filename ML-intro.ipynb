{
 "cells": [
  {
   "cell_type": "markdown",
   "id": "4369598b-8a6c-452e-a9d0-3936987a8cf8",
   "metadata": {},
   "source": [
    "[![Open In Colab](https://colab.research.google.com/assets/colab-badge.svg)](https://colab.research.google.com/github/nhartman94/PALMS2024/blob/main/ML-intro.ipynb)"
   ]
  },
  {
   "cell_type": "markdown",
   "id": "b56465c1-3d89-4897-a963-bc887316aa9d",
   "metadata": {},
   "source": [
    "# Intro to Machine Learning: Linear Models \n",
    "\n",
    "Nicole Hartman, PALMS2024\n",
    "\n",
    "**Data detective:**  We're going to give you a \"mystery dataset\" and your challenge is to find the \n",
    "$\\theta = [\\theta_0,\\theta_1,\\theta_2,\\theta_3]$ \n",
    "if we fit linear model to this dataset where the \"basis\" dimensions are a $3^{rd}$ degree polynomial.\n"
   ]
  },
  {
   "cell_type": "code",
   "execution_count": null,
   "id": "5744e8aa-cbad-41bc-ad37-1ec98730af64",
   "metadata": {},
   "outputs": [],
   "source": [
    "import numpy as np\n",
    "import pandas as pd # just for file loading\n",
    "import matplotlib.pyplot as plt"
   ]
  },
  {
   "cell_type": "markdown",
   "id": "7d905c13-f688-4270-9e05-26d7d3d237c1",
   "metadata": {},
   "source": [
    "## Step 0: Load in the data"
   ]
  },
  {
   "cell_type": "code",
   "execution_count": null,
   "id": "4a7eefc1-2210-482e-a7e2-fd2ec7989413",
   "metadata": {},
   "outputs": [],
   "source": [
    "# Load the data\n",
    "df = pd.read_hdf('data.h5')"
   ]
  },
  {
   "cell_type": "code",
   "execution_count": null,
   "id": "2ef2b087-8dab-437a-b14b-850c4c3345bf",
   "metadata": {},
   "outputs": [],
   "source": [
    "# Look @ the data\n",
    "df"
   ]
  },
  {
   "cell_type": "code",
   "execution_count": null,
   "id": "1f68631a-589d-47ca-9789-86b00696174f",
   "metadata": {},
   "outputs": [],
   "source": [
    "# Put this data in numpy arrays\n",
    "x = df['x'].values\n",
    "y = df['y'].values"
   ]
  },
  {
   "cell_type": "code",
   "execution_count": null,
   "id": "06bdf199-db3f-482f-bfea-3c63f42831fd",
   "metadata": {},
   "outputs": [],
   "source": [
    "# Plot the data\n",
    "plt.scatter(x,y,marker='x',color='crimson',label='data')\n",
    "\n",
    "plt.xlabel('$x$',fontsize=20)\n",
    "plt.ylabel('$y$',fontsize=20)\n",
    "plt.legend(fontsize=16)"
   ]
  },
  {
   "cell_type": "markdown",
   "id": "0e87c2a7-9bc6-4e5c-a8e6-17c5941d0286",
   "metadata": {},
   "source": [
    "## Step 1:  Code up a linear model for a $3^{rd}$ degree polynomial.\n",
    "\n",
    "**Recall:** A linear model is a model that can be written in the form\n",
    "\n",
    "$$h_\\theta(\\vec{x}) = \\theta^T \\vec{x},$$\n",
    "\n",
    "where $\\vec{x} = \\left[x_0, x_1, \\ldots, x_d\\right]$.\n",
    "\n",
    "In this case, we'll take the dimensions of $x$ to be a third order polynomial (d=3):\n",
    "$\\vec{x} = \\left[1, x, x^2, x^3\\right]$"
   ]
  },
  {
   "cell_type": "code",
   "execution_count": null,
   "id": "50ed30ba-77b5-4024-ba2a-f8d4b8369ff3",
   "metadata": {},
   "outputs": [],
   "source": [
    "# Initialize theta to some random values\n",
    "# theta = (theta0, theta_1, theta_2, theta_3)\n",
    "\n",
    "theta = np.random.randn(4,)"
   ]
  },
  {
   "cell_type": "code",
   "execution_count": null,
   "id": "887aa6f5-41c0-4468-80b2-2ff2e8698c9f",
   "metadata": {},
   "outputs": [],
   "source": [
    "def get_predicion(x,theta):\n",
    "    '''\n",
    "    Evaluate a linear model that is a 3rd order polynomial\n",
    "\n",
    "    fx = theta[0] + theta[1] * x + theta[2] * x^2 + theta[3] * x^3 \n",
    "\n",
    "    Input:\n",
    "    - x: shape n\n",
    "    - theta: 4\n",
    "\n",
    "    Output:\n",
    "    - fx: shape n\n",
    "    '''\n",
    "    \n",
    "    assert theta.shape[0] == 4 # sanity check for 3rd order polynomial\n",
    "    \n",
    "    '''\n",
    "    YOUR CODE HERE\n",
    "    '''\n",
    "    fx = \n",
    "\n",
    "    return fx"
   ]
  },
  {
   "cell_type": "markdown",
   "id": "7eb35b8a-4dde-47f2-bf2d-45ba5d3875b4",
   "metadata": {},
   "source": [
    "## Step 2a) Calculate the loss"
   ]
  },
  {
   "cell_type": "code",
   "execution_count": null,
   "id": "ad185e8e-7e62-4a6d-a3a6-fecac789eb00",
   "metadata": {},
   "outputs": [],
   "source": [
    "def get_loss(y_pred, y_true):\n",
    "    '''\n",
    "    Calculate the Mean Squared Error (MSE) loss over N examples\n",
    "\n",
    "    Inputs:\n",
    "    - y_pred: (n,) array\n",
    "    - y_true: (n,) array\n",
    "\n",
    "    Outputs:\n",
    "    - loss: scalar\n",
    "    '''\n",
    "\n",
    "    assert len(y_pred) == len(y_true) # sanity check the inputs make sense\n",
    "\n",
    "    '''\n",
    "    YOUR CODE HERE\n",
    "    '''\n",
    "\n",
    "    return loss"
   ]
  },
  {
   "cell_type": "code",
   "execution_count": null,
   "id": "0f858615-95e2-41da-95a7-d0c2e641f11a",
   "metadata": {},
   "outputs": [],
   "source": [
    "y_pred = get_predicion(x, theta) \n",
    "loss = get_loss(y_pred,y)"
   ]
  },
  {
   "cell_type": "code",
   "execution_count": null,
   "id": "eab8c1c1-a701-40f5-899e-9d68bfd5cbba",
   "metadata": {},
   "outputs": [],
   "source": [
    "y_pred"
   ]
  },
  {
   "cell_type": "code",
   "execution_count": null,
   "id": "9dc51338-9aa5-49c1-9ddf-0dc4553dc987",
   "metadata": {},
   "outputs": [],
   "source": [
    "# data\n",
    "plt.scatter(x,y,marker='x',color='crimson',label='data')\n",
    "\n",
    "# Show the \"initial guess\" for the prediction\n",
    "xx = np.linspace(-3,3)\n",
    "f_theta = get_predicion(xx,theta)\n",
    "plt.plot(xx,f_theta, label='pred' )\n",
    "\n",
    "# These lines are the h_theta(x) for the data samples too\n",
    "# y_pred = get_predicion(x,theta)\n",
    "# plt.scatter(x,y_pred,marker='o',color='navy',label=r'$h_\\theta(x)$')\n",
    "\n",
    "ax = plt.gca()\n",
    "plt.text(.5,.9,f'loss = {loss:2.2f}',fontsize=16,\n",
    "         ha='center',va='top',transform=ax.transAxes)\n",
    "\n",
    "plt.xlabel('$x$',fontsize=20)\n",
    "plt.ylabel('$y$',fontsize=20)\n",
    "\n",
    "plt.legend(fontsize=16)"
   ]
  },
  {
   "cell_type": "code",
   "execution_count": null,
   "id": "b123fe3b-978f-4ee3-a523-49ff227d7562",
   "metadata": {},
   "outputs": [],
   "source": []
  },
  {
   "cell_type": "markdown",
   "id": "42d696c8-212a-41f7-a06f-1d2fa227dfd5",
   "metadata": {},
   "source": [
    "## Step 2b) Gradient of the loss with respect to $\\theta$\n",
    "\n",
    "**Recall:** In the exercise we dervied:\n",
    "\n",
    "$$ \\frac{\\partial \\mathcal{L}}{\\partial \\theta} = \\frac{2}{n} \\sum_{i = 1}^{n} (\\theta^Tx^{(i)} - y^{(i)}) x^{(i)}_j$$"
   ]
  },
  {
   "cell_type": "markdown",
   "id": "eaaa48da-82dc-482c-bca9-d26ea46b08b7",
   "metadata": {},
   "source": [
    "In python it's really important for speed to write computations in a vectorized way as much as possible (i.e, without for loops).\n",
    "\n",
    "We noted in the lecture that we could get the full vector for gradient by noting\n",
    "\n",
    "$$X =  \\begin{pmatrix}\n",
    "- x^{(1)} - \\\\ \\vdots \\\\ - x^{(n)} - \n",
    "\\end{pmatrix} \\in \\mathbb{R}^{n \\times d},$$\n",
    "\n",
    "where for the $3^{rd}$ order polynomial, $d=3$.\n",
    "\n",
    "Then $\\theta \\in \\mathbb{R}^d$, $\\implies X\\theta \\in \\mathbb{R}^n$ and $y \\in \\mathbb{R}^n$, so we can write more succinctly as:\n",
    "\n",
    "$$\\nabla_\\theta \\mathcal{L} = \\frac{2}{n} X^T (X \\theta - y).$$\n"
   ]
  },
  {
   "cell_type": "code",
   "execution_count": null,
   "id": "dd59ea82-f036-48f5-a28b-96e52f11e27a",
   "metadata": {},
   "outputs": [],
   "source": [
    "def get_grad(x,y,theta):\n",
    "    '''\n",
    "    Code up the gradient of the loss with respect to theta.\n",
    "\n",
    "    Input:\n",
    "    - x: array (n,)\n",
    "    - y: array (n,)\n",
    "    - theta: (d,)\n",
    "\n",
    "    Output:\n",
    "    - dtheta: (d,)\n",
    "    '''\n",
    "\n",
    "    assert x.shape[0] == y.shape[0]\n",
    "        \n",
    "    '''\n",
    "    YOUR CODE HERE\n",
    "\n",
    "    Hint: Construct matrix X: (n,d) from examples `x`\n",
    "    '''\n",
    "\n",
    "\n",
    "    \n",
    "    return dtheta\n"
   ]
  },
  {
   "cell_type": "markdown",
   "id": "13f742ae-57a1-40f5-9db6-3b399e2c754b",
   "metadata": {},
   "source": [
    "## Step 3: Set up a training loop to infer the parameters\n",
    "\n",
    "Recall: To update the parameters of the loss by stochastic gradient descent, we simply update the parameters by\n",
    "\n",
    "$$\\theta \\leftarrow \\theta - \\alpha \\nabla_\\theta\\mathcal{L}$$\n",
    "\n",
    "and then iterate over these update steps.\n",
    "\n",
    "Since you've coded up all of the above functions, we'll give you the training loop code (see below):\n"
   ]
  },
  {
   "cell_type": "code",
   "execution_count": null,
   "id": "3581699b-f46d-486b-96f0-94612f73b296",
   "metadata": {},
   "outputs": [],
   "source": [
    "alpha=.01"
   ]
  },
  {
   "cell_type": "code",
   "execution_count": null,
   "id": "65ef46e2-7edb-41f8-8505-ecfb9d9a8c8b",
   "metadata": {},
   "outputs": [],
   "source": [
    "losses = []\n",
    "\n",
    "for i in range(11):\n",
    "\n",
    "    # Calculate y_pred\n",
    "    y_pred = get_predicion(x,theta)\n",
    "    \n",
    "    # Get the loss\n",
    "    loss = get_loss(y_pred,y)\n",
    "\n",
    "    # Calculate the gradient\n",
    "    dtheta = get_grad(x,y,theta)\n",
    "    \n",
    "    # Update the parameters\n",
    "    theta -= alpha * dtheta\n",
    "    \n",
    "    # Save the values\n",
    "    losses.append(loss)"
   ]
  },
  {
   "cell_type": "code",
   "execution_count": null,
   "id": "725a350c-82aa-43a4-bfe1-afadac6e403d",
   "metadata": {},
   "outputs": [],
   "source": [
    "plt.plot(losses)\n",
    "plt.xlabel('iterations',fontsize=16)\n",
    "plt.ylabel('Loss',fontsize=16)"
   ]
  },
  {
   "cell_type": "code",
   "execution_count": null,
   "id": "3a8c77e6-e703-4ebc-a629-8e4c30b022d6",
   "metadata": {},
   "outputs": [],
   "source": [
    "losses[-10:]"
   ]
  },
  {
   "cell_type": "code",
   "execution_count": null,
   "id": "615b8a9a-b5f5-4c79-a2f2-7cc5bde70e78",
   "metadata": {},
   "outputs": [],
   "source": [
    "# Overlay the \"initial guess\" of the data prediction\n",
    "y_pred = get_predicion(X,theta)\n",
    "\n",
    "plt.scatter(x,y,marker='x',color='crimson',label='data')\n",
    "\n",
    "# plt.scatter(x,y_pred,marker='o',color='navy',label=r'$h_\\theta(x)$')\n",
    "\n",
    "ax = plt.gca()\n",
    "plt.text(.5,.9,f'loss = {loss:2.2f}',fontsize=16,\n",
    "         ha='center',va='top',transform=ax.transAxes)\n",
    "\n",
    "plt.xlabel('$x$',fontsize=20)\n",
    "plt.ylabel('$y$',fontsize=20)\n",
    "\n",
    "# Get the continuous version of the prediction\n",
    "f_theta = get_predicion(xx,theta)\n",
    "plt.plot(xx,f_theta, label='pred' )\n",
    "\n",
    "plt.legend(fontsize=16)"
   ]
  },
  {
   "cell_type": "markdown",
   "id": "02eb5c77-2f92-4411-b83c-207b787865b7",
   "metadata": {},
   "source": [
    "Are you happy with your model fit?\n",
    "\n",
    "(Note you might need to play with the learning rate and the number of iterations until you get convergence.)\n"
   ]
  },
  {
   "cell_type": "code",
   "execution_count": null,
   "id": "ab246f01-8503-4b9d-b9ef-120f8b389354",
   "metadata": {},
   "outputs": [],
   "source": []
  },
  {
   "cell_type": "code",
   "execution_count": null,
   "id": "da3d38d9-039b-45c4-8c37-45d1af431817",
   "metadata": {},
   "outputs": [],
   "source": [
    "theta"
   ]
  },
  {
   "cell_type": "code",
   "execution_count": null,
   "id": "16aa9e82-d5f7-4a9a-a329-3384f658630e",
   "metadata": {},
   "outputs": [],
   "source": []
  },
  {
   "cell_type": "markdown",
   "id": "436e522c-b586-4460-b59b-b65ff96cfea8",
   "metadata": {},
   "source": [
    "## Step 4:; Sharing the discovery\n",
    "\n",
    "When you found a model you're happy with, got to :\n",
    "\n",
    "[PollEv.com/nicolehartman968](PollEv.com/nicolehartman968)\n",
    "\n",
    "and enter the $\\theta_0, \\theta_1,\\theta_2,\\theta_3$ values that you get.\n",
    "\n",
    "(Hint, they should be integers, so round the answers you submit 😄)"
   ]
  },
  {
   "cell_type": "code",
   "execution_count": null,
   "id": "ac9ed8fc-d6f6-43b5-84bc-c04d9c73dfaf",
   "metadata": {},
   "outputs": [],
   "source": []
  },
  {
   "cell_type": "code",
   "execution_count": null,
   "id": "b37f3145-d5c7-4c09-bbd8-c5d8b3f1c710",
   "metadata": {},
   "outputs": [],
   "source": []
  }
 ],
 "metadata": {
  "kernelspec": {
   "display_name": "Python 3 (ipykernel)",
   "language": "python",
   "name": "python3"
  },
  "language_info": {
   "codemirror_mode": {
    "name": "ipython",
    "version": 3
   },
   "file_extension": ".py",
   "mimetype": "text/x-python",
   "name": "python",
   "nbconvert_exporter": "python",
   "pygments_lexer": "ipython3",
   "version": "3.11.8"
  }
 },
 "nbformat": 4,
 "nbformat_minor": 5
}
